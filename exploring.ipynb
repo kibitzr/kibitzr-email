{
 "cells": [
  {
   "cell_type": "code",
   "execution_count": 42,
   "metadata": {},
   "outputs": [
    {
     "data": {
      "text/plain": [
       "('OK', ['8'])"
      ]
     },
     "execution_count": 42,
     "metadata": {},
     "output_type": "execute_result"
    }
   ],
   "source": [
    "import imaplib\n",
    "imap_ssl_host = 'imap.gmail.com'  # imap.mail.yahoo.com\n",
    "imap_ssl_port = 993\n",
    "\n",
    "mail = imaplib.IMAP4_SSL(imap_ssl_host, imap_ssl_port)\n",
    "mail.login('peterdemin@gmail.com', 'Pr1m@rym@1lb0x')\n",
    "mail.list()\n",
    "# Out: list of \"folders\" aka labels in gmail.\n",
    "mail.select(\"inbox\") # connect to inbox"
   ]
  },
  {
   "cell_type": "code",
   "execution_count": 19,
   "metadata": {},
   "outputs": [],
   "source": [
    "result, data = mail.search(None, \"ALL\")"
   ]
  },
  {
   "cell_type": "code",
   "execution_count": 20,
   "metadata": {},
   "outputs": [
    {
     "data": {
      "text/plain": [
       "['1 2 3 4 5 6 7 8 9 10']"
      ]
     },
     "execution_count": 20,
     "metadata": {},
     "output_type": "execute_result"
    }
   ],
   "source": [
    "data"
   ]
  },
  {
   "cell_type": "code",
   "execution_count": 21,
   "metadata": {},
   "outputs": [],
   "source": [
    "ids = data[0] # data is a list.\n",
    "id_list = ids.split() # ids is a space separated string\n",
    "latest_email_id = id_list[-1] # get the latest\n",
    " \n",
    "result, body_data = mail.fetch(latest_email_id, \"(RFC822)\") # fetch the email body (RFC822) for the given ID\n",
    "\n",
    "raw_email = body_data[0][1] # here's the body, which is raw text of the whole email\n",
    "# including headers and alternate payloads"
   ]
  },
  {
   "cell_type": "code",
   "execution_count": 45,
   "metadata": {},
   "outputs": [],
   "source": [
    "result, inbox_data = mail.uid('search', None, \"ALL\") # search and return uids instead\n",
    "email_uids = inbox_data[0].split()\n",
    "latest_email_uid = email_uids[-1]\n",
    "result, body_data = mail.uid('fetch', latest_email_uid, '(RFC822)')\n",
    "raw_email = data[0][1]"
   ]
  },
  {
   "cell_type": "code",
   "execution_count": 46,
   "metadata": {},
   "outputs": [
    {
     "data": {
      "text/plain": [
       "['30773', '33718', '33738', '33740', '33750', '33757', '33759', '33760']"
      ]
     },
     "execution_count": 46,
     "metadata": {},
     "output_type": "execute_result"
    }
   ],
   "source": [
    "email_uids"
   ]
  },
  {
   "cell_type": "code",
   "execution_count": 48,
   "metadata": {},
   "outputs": [],
   "source": [
    "import email.Header"
   ]
  },
  {
   "cell_type": "code",
   "execution_count": 82,
   "metadata": {},
   "outputs": [
    {
     "name": "stdout",
     "output_type": "stream",
     "text": [
      "UID     : 30773\n",
      "SUBJECT : Check out the new Developer Hub\n",
      "TO      : \"peterdemin@gmail.com\" <peterdemin@gmail.com>\n",
      "FROM    : Open Banking <openbanking@citi.com>\n",
      "\n",
      "UID     : 33718\n",
      "SUBJECT : PETR, it's a good time to refinance your auto loan\n",
      "TO      : <peterdemin@gmail.com>\n",
      "FROM    : \"Bank of America\" <bankofamerica@emcom.bankofamerica.com>\n",
      "\n",
      "UID     : 33738\n",
      "SUBJECT : Challenge 3 💡 \n",
      "TO      : <peterdemin+toothpaste.coffee@gmail.com>\n",
      "FROM    : toothpaste.coffee\n",
      "\n",
      "UID     : 33740\n",
      "SUBJECT : Igor Sobolev sent you an Amazon.com Gift Card!\n",
      "TO      : peterdemin@gmail.com\n",
      "FROM    : \"Amazon.com Gift Card\" <gc-orders@gc.email.amazon.com>\n",
      "\n",
      "UID     : 33750\n",
      "SUBJECT : Challenge 4💡\n",
      "TO      : <peterdemin+toothpaste.coffee@gmail.com>\n",
      "FROM    : toothpaste.coffee\n",
      "\n",
      "UID     : 33757\n",
      "SUBJECT : 📱 Хиты из мира техники!\n",
      "TO      : poslano@gmail.com\n",
      "FROM    : Технопарк.ру - интернет-магазин\n",
      "\n",
      "UID     : 33759\n",
      "SUBJECT : A new transaction was charged to your account\n",
      "TO      : peterdemin@gmail.com\n",
      "FROM    : \"Capital One\" <capitalone@notification.capitalone.com>\n",
      "\n",
      "UID     : 33760\n",
      "SUBJECT : Your Available Balance\n",
      "TO      : <peterdemin@gmail.com>\n",
      "FROM    : \"Bank of America\" <onlinebanking@ealerts.bankofamerica.com>\n",
      "\n"
     ]
    }
   ],
   "source": [
    "for uid in email_uids:\n",
    "    result, body = mail.uid('fetch', uid, '(RFC822)')\n",
    "    raw_email = body[0][1]\n",
    "    msg = email.message_from_string(raw_email)\n",
    "    print('%-8s: %s' % ('UID', uid))\n",
    "    for header in [ 'subject', 'to', 'from' ]:\n",
    "        #print(msg[header])\n",
    "        #print(email.Header.decode_header(msg[header]))\n",
    "        text = email.Header.decode_header(msg[header].replace('\\r\\n', ' '))[0][0]\n",
    "        print('%-8s: %s' % (header.upper(), text))\n",
    "    print('')"
   ]
  },
  {
   "cell_type": "code",
   "execution_count": 84,
   "metadata": {
    "scrolled": true
   },
   "outputs": [
    {
     "name": "stdout",
     "output_type": "stream",
     "text": [
      "\r\n",
      "Hi, PETR, here's your available balance\r\n",
      "\r\n",
      "Balance: $676.32\r\n",
      "Account: Checking -8420\r\n",
      "Date: April 15, 2018\r\n",
      "\r\n",
      "Sign in to Online Banking or the mobile app to view your account\r\n",
      "activity.\r\n",
      "\r\n",
      "This balance may be different from what displays in Online Banking\r\n",
      "if you've had subsequent activity on your account since we sent\r\n",
      "this message.\r\n",
      "\r\n",
      "Lost it? Lock it?\r\n",
      "Lock your debit card to prevent unauthorized activity.  \r\n",
      "\r\n",
      "Download the app now:  http://promotions.bankofamerica.com/mobile/emailcampaignM?cm_mmc=OLB-Mobile Banking-_-Mobile Banking-_-OM16LT0034_AMC_AVLBAL_0816_Get_the_App-_-AlertMC_Aug_2016\r\n",
      "\r\n",
      "Your last sign-in was 04/15/2018\r\n",
      "To verify that this email is from Bank of America, confirm your last \r\n",
      "sign-in date is correct. To access Online or Mobile Banking, go \r\n",
      "directly to bankofamerica.com or use our Mobile Banking app.\r\n",
      "Remember: We never ask for private information such as an account number,\r\n",
      "card PIN, or Social Security or Tax ID number in email messages. If you \r\n",
      "think an email is suspicious, don't click on any links. Instead, \r\n",
      "forward it to abuse@bankofamerica.com and delete it. \r\n",
      "\r\n",
      "This is a service email from Bank of America. Please note that you may \r\n",
      "receive service emails in accordance with your Bank of America service\r\n",
      "agreements, whether or not you elect to receive promotional email.\r\n",
      "Please don't reply directly to this automatically generated email message.\r\n",
      "\r\n",
      "Read our Privacy Notice:\r\n",
      "www.bankofamerica.com/privacy/consumer-privacy-notice.go\r\n",
      "Bank of America, N.A. Member FDIC. Equal Housing Lender:\r\n",
      "www.bankofamerica.com/help/equalhousing.cfm\r\n",
      "(C) 2018 Bank of America Corporation.  All rights reserved.\r\n",
      "\r\n",
      "This email was sent to: peterdemin@gmail.com\r\n",
      "\r\n",
      "\r\n",
      "\r\n",
      "\r\n",
      "\r\n",
      "\n"
     ]
    }
   ],
   "source": [
    "result, body = mail.uid('fetch', '33760', '(RFC822)')\n",
    "msg = email.message_from_string(body[0][1])\n",
    "print(get_first_text_block(msg))"
   ]
  },
  {
   "cell_type": "markdown",
   "metadata": {},
   "source": [
    "```yaml\n",
    "checks:\n",
    "  - email: peterdemin@gmail.com\n",
    "    match:\n",
    "      - from: \"Bank of America\" <onlinebanking@ealerts.bankofamerica.com>\n",
    "      - subject: Your Available Balance\n",
    "    transform:\n",
    "      - bash: \"awk /^Balance:/ { print $2; }\"\n",
    "    notify:\n",
    "      - stash:\n",
    "          bofa: {{ content }}\n",
    "      - telegram\n",
    "```"
   ]
  },
  {
   "cell_type": "code",
   "execution_count": 35,
   "metadata": {
    "scrolled": true
   },
   "outputs": [
    {
     "name": "stdout",
     "output_type": "stream",
     "text": [
      "prislano@gmail.com\n",
      "('Google', 'no-reply@accounts.google.com')\n",
      "[('Delivered-To', 'peterdemin@gmail.com'), ('Received', 'by 10.12.197.144 with SMTP id a16csp2775688qvj;\\r\\n        Sun, 15 Apr 2018 09:04:42 -0700 (PDT)'), ('X-Received', 'by 10.200.12.13 with SMTP id k13mr12734461qti.281.1523808282573;\\r\\n        Sun, 15 Apr 2018 09:04:42 -0700 (PDT)'), ('ARC-Seal', 'i=2; a=rsa-sha256; t=1523808282; cv=pass;\\r\\n        d=google.com; s=arc-20160816;\\r\\n        b=NrG3IsVEASwuh4LQMMuvRiTYt5Oj5lApPgG22X7baurTj80lMJof9zV/etkxV6o4cu\\r\\n         BMz8o+bRHSjuunxPBJlqkQUOU9PrABw5USJENQ8yiBs+VQ5o3iY7Hpo5HG4VFg/ylB/s\\r\\n         bXYsE6O07fo9ItM4P02e16+fYjvDYxdFk2ovzWppc4oIAH+Dnj+AkUWg5Ye2ZWjpgboc\\r\\n         uY5homLu2UZq6WID+Nhp/2TNQhsgOuTJYnbNBmlPRmAIAkTmIm8csC6Ms0gmJ0nSeeY0\\r\\n         GqZZXPFZMM3SPG3maWy0h1iFRm3Uq+MCpWDeaslbCR9UndMruFJS8yb5DWDl3pN8phAx\\r\\n         kvHQ=='), ('ARC-Message-Signature', 'i=2; a=rsa-sha256; c=relaxed/relaxed; d=google.com; s=arc-20160816;\\r\\n        h=to:from:subject:message-id:feedback-id:date:mime-version\\r\\n         :dkim-signature:arc-authentication-results:arc-message-signature\\r\\n         :delivered-to:arc-authentication-results;\\r\\n        bh=bHXODmocTgADaG8T7jlIPL67OhWeoPAD1KUIg1Tu1A4=;\\r\\n        b=SfTAFOkUWiGDGBbg8vm224jvWfnPawHMElnjKzg53YN3xq6PcG7hR92t4ixB5caOOR\\r\\n         YdPtJHTWW5cXq9m2r1YWFislNplt1sTIMqHfeZy0wHOGkVlGs0qoQdpgR2rMUiDtVOy2\\r\\n         r8Ua0ZkNbgUqfF4Abmkrhh84CyX9i5Hr/sGEaHCwB0WapV/j4s3QSFzbJ5zZCtTPCJr8\\r\\n         PDrLM8IKdIy2yi0bKRUlZE2x4bs9bdG1VdFYd/rZW4gYiBky+Cu4Bqf9QpNd1wY2zWl5\\r\\n         THpZmzVHL3Pj7W04sCPWT8aasmPQNDDT4uoKVeggGBvpy2gX//D3BPG1gjHDRmQz4N0b\\r\\n         OmTA=='), ('ARC-Authentication-Results', 'i=2; mx.google.com;\\r\\n       dkim=pass header.i=@accounts.google.com header.s=20161025 header.b=DliG2k+J;\\r\\n       arc=pass (i=1 spf=pass spfdomain=gaia.bounces.google.com dkim=pass dkdomain=accounts.google.com dmarc=pass fromdomain=accounts.google.com);\\r\\n       spf=pass (google.com: domain of prislano+caf_=peterdemin=gmail.com@gmail.com designates 209.85.220.41 as permitted sender) smtp.mailfrom=prislano+caf_=peterdemin=gmail.com@gmail.com;\\r\\n       dmarc=pass (p=REJECT sp=REJECT dis=NONE) header.from=accounts.google.com'), ('Return-Path', '<prislano+caf_=peterdemin=gmail.com@gmail.com>'), ('Received', 'from mail-sor-f41.google.com (mail-sor-f41.google.com. [209.85.220.41])\\r\\n        by mx.google.com with SMTPS id u2sor5166869qkf.72.2018.04.15.09.04.42\\r\\n        for <peterdemin@gmail.com>\\r\\n        (Google Transport Security);\\r\\n        Sun, 15 Apr 2018 09:04:42 -0700 (PDT)'), ('Received-SPF', 'pass (google.com: domain of prislano+caf_=peterdemin=gmail.com@gmail.com designates 209.85.220.41 as permitted sender) client-ip=209.85.220.41;'), ('Authentication-Results', 'mx.google.com;\\r\\n       dkim=pass header.i=@accounts.google.com header.s=20161025 header.b=DliG2k+J;\\r\\n       arc=pass (i=1 spf=pass spfdomain=gaia.bounces.google.com dkim=pass dkdomain=accounts.google.com dmarc=pass fromdomain=accounts.google.com);\\r\\n       spf=pass (google.com: domain of prislano+caf_=peterdemin=gmail.com@gmail.com designates 209.85.220.41 as permitted sender) smtp.mailfrom=prislano+caf_=peterdemin=gmail.com@gmail.com;\\r\\n       dmarc=pass (p=REJECT sp=REJECT dis=NONE) header.from=accounts.google.com'), ('X-Google-DKIM-Signature', 'v=1; a=rsa-sha256; c=relaxed/relaxed;\\r\\n        d=1e100.net; s=20161025;\\r\\n        h=x-gm-message-state:delivered-to:dkim-signature:mime-version:date\\r\\n         :feedback-id:message-id:subject:from:to;\\r\\n        bh=bHXODmocTgADaG8T7jlIPL67OhWeoPAD1KUIg1Tu1A4=;\\r\\n        b=BvEY0jkMbMaijg3HSQF97gI4xW2SYn6vBMwXobLWdBvMmHvTvEql9l/twb6OjZls+c\\r\\n         0DDGZccpEgPKXpaPkmel2sOJDiKTcC2kWZeb8gTOTQ/WOqPyknMI8LlQYAp0mL10ZKUr\\r\\n         cXdX30CLtzHU0YXqjZiIl29f8q/GZw7KF7FY9V2lgKABF67VUSzGq1tkTEY7RQUDjVIj\\r\\n         m21ouuaYCsZv26o2HIRGWZYPMtEJoSDnid0MH5psHuL60PuHO9V05AVcoNZ6PB9xTmZX\\r\\n         IzRLwHLlJLYVE/KzoxV5YYwRl7t2BOKcoLIso9gMxWPSI/QCrKrLh+wlrI4of4/8yRCy\\r\\n         SY8g=='), ('X-Gm-Message-State', 'ALQs6tDbLTEnBG5BEyVs5pxA0VFmQ8H7amszJ5bk9kZo9j4NG+yopCFT\\r\\n\\tco/dCg/JUjAW1YVs7BPgCdX9s40lk7WZ0uhh9jG1lTgxvJty/28='), ('X-Received', 'by 10.55.56.211 with SMTP id f202mr12844585qka.288.1523808282355;\\r\\n        Sun, 15 Apr 2018 09:04:42 -0700 (PDT)'), ('X-Forwarded-To', 'peterdemin@gmail.com'), ('X-Forwarded-For', 'prislano@gmail.com peterdemin@gmail.com'), ('Delivered-To', 'prislano@gmail.com'), ('Received', 'by 10.12.248.208 with SMTP id h16csp1054638qvo;\\r\\n        Sun, 15 Apr 2018 09:04:41 -0700 (PDT)'), ('X-Received', 'by 10.129.158.210 with SMTP id v201mr9177900ywg.476.1523808281547;\\r\\n        Sun, 15 Apr 2018 09:04:41 -0700 (PDT)'), ('ARC-Seal', 'i=1; a=rsa-sha256; t=1523808281; cv=none;\\r\\n        d=google.com; s=arc-20160816;\\r\\n        b=xtMF2ksnZhFK971H2G2UOe5PVYtzi6RGWzlBuQMOMt2lXFNoxJ3wqDRHseBnzOWFcK\\r\\n         DyfJbB0+KjINju2xx/+LD0kvKYtsP9E0a0hyJeMjdK32QfoJPwY7tTNzQvaMtZWmNBmV\\r\\n         foxgu0yRhkB9oGp9HmCkv2jBdC+gi9VBaFnxlTQvQ32xe4M3ZFbdcnXq7g56BqjBMd1V\\r\\n         3C0NMDJAbm0bU6V6zWayiKAQbxwbPGGcoM7XphAj5Txl5mcuNyulIDVSRNNoi0TS0Fiz\\r\\n         1R9hgbdT16K+sUpNKMom23grmG8qWpdw+Hjq1a9JNyqYnFWp6VrW0g6J1FPbywJ1K/et\\r\\n         ZrQw=='), ('ARC-Message-Signature', 'i=1; a=rsa-sha256; c=relaxed/relaxed; d=google.com; s=arc-20160816;\\r\\n        h=to:from:subject:message-id:feedback-id:date:mime-version\\r\\n         :dkim-signature:arc-authentication-results;\\r\\n        bh=bHXODmocTgADaG8T7jlIPL67OhWeoPAD1KUIg1Tu1A4=;\\r\\n        b=e9ZCSZ/YFrMs6WdEj/VfhIh/rpxHeJbW6ETceuLsg+z8mF3ZchvOjuXoLaqBdKw5ie\\r\\n         8lv2Pe+yUz+krYjXTExbw9AbEf/kVG+XFOSm7S8+0Y3Nv6oIsEcpN5aqtBJhhwx8kw3j\\r\\n         ZGBMHEd12KMVuRorhshO+BKJb9Q3E07nLY+qHYgcZAqqtYwQTAmB6POtrMUc5YQsx2R7\\r\\n         TpvWlwYewT4m0sAiv8OQoRcY7GwC1HfkdlDvGOdeuPpebc74/6V6wqifzOY64GZQbgmv\\r\\n         NqqtLUAMh/ouvRPQ8nXc+r3yCUe8g29VqejWXuuM+h+VO1u822w/bmaN6bDJC1V5x1DB\\r\\n         neaw=='), ('ARC-Authentication-Results', 'i=1; mx.google.com;\\r\\n       dkim=pass header.i=@accounts.google.com header.s=20161025 header.b=DliG2k+J;\\r\\n       spf=pass (google.com: domain of 3gxjtwggtcdqde-hufboqssekdji.weewbu.secfhyibqdewcqyb.sec@gaia.bounces.google.com designates 209.85.220.69 as permitted sender) smtp.mailfrom=3GXjTWggTCDQde-hUfboQSSekdji.WeeWbU.SecfhYibQdeWcQYb.Sec@gaia.bounces.google.com;\\r\\n       dmarc=pass (p=REJECT sp=REJECT dis=NONE) header.from=accounts.google.com'), ('Return-Path', '<3GXjTWggTCDQde-hUfboQSSekdji.WeeWbU.SecfhYibQdeWcQYb.Sec@gaia.bounces.google.com>'), ('Received', 'from mail-sor-f69.google.com (mail-sor-f69.google.com. [209.85.220.69])\\r\\n        by mx.google.com with SMTPS id y5sor4647319qkd.2.2018.04.15.09.04.41\\r\\n        for <prislano@gmail.com>\\r\\n        (Google Transport Security);\\r\\n        Sun, 15 Apr 2018 09:04:41 -0700 (PDT)'), ('Received-SPF', 'pass (google.com: domain of 3gxjtwggtcdqde-hufboqssekdji.weewbu.secfhyibqdewcqyb.sec@gaia.bounces.google.com designates 209.85.220.69 as permitted sender) client-ip=209.85.220.69;'), ('DKIM-Signature', 'v=1; a=rsa-sha256; c=relaxed/relaxed;\\r\\n        d=accounts.google.com; s=20161025;\\r\\n        h=mime-version:date:feedback-id:message-id:subject:from:to;\\r\\n        bh=bHXODmocTgADaG8T7jlIPL67OhWeoPAD1KUIg1Tu1A4=;\\r\\n        b=DliG2k+JUn5YbQJKNlihxhyKiP6ISr8DK7bgTvH256Z2ufNRe7V9eEp9yV/syY2Gsf\\r\\n         gwFbX8qZAYSrcNG0uVy8HEDxaBZmOt8blwTDeq3H+Uw48wujZneuBsMchXGhOhC/ez3X\\r\\n         AJWKYgXmmqvtKavDe6/ZXo7hLpBixv00Od4krvTCddP9wdchBcstKX5GhYrBcLrKB6wZ\\r\\n         3v2H7W7j7hWXRDgFFRETcG7+SJkRWynJiKNVBY8ZkE2FjO6oR6W+slhQreDDnGvLKalo\\r\\n         MUUyfBt8IYljZWokWkaWEnsLW8NryZ2kBUWy8tK7W3mx33E0b/J9P+PfqtKkM6VRk3T+\\r\\n         SQpw=='), ('X-Google-Smtp-Source', 'AIpwx4/Vfp9Vj2naZmXGxXLuiY/ljtK+gi8ubHLPiCyz+xegIUXMLixUzomiJkMACsgSfKXKpA4HtXLkHF8nQ0/Qqo0vyg=='), ('MIME-Version', '1.0'), ('X-Received', 'by 10.55.207.135 with SMTP id v7mr4951191qkl.5.1523808281297; Sun,\\r\\n 15 Apr 2018 09:04:41 -0700 (PDT)'), ('Date', 'Sun, 15 Apr 2018 16:04:40 +0000 (UTC)'), ('X-Account-Notification-Type', '28-RECOVERY'), ('Feedback-ID', '28-RECOVERY:account-notifier'), ('X-Notifications', '9d6b3a951a000000'), ('Message-ID', '<12_wHkRqovqGTLVVKSsHEQ.0@notifications.google.com>'), ('Subject', 'Security alert for your linked Google account'), ('From', 'Google <no-reply@accounts.google.com>'), ('To', 'prislano@gmail.com'), ('Content-Type', 'multipart/alternative; boundary=\"001a1145b82250066c0569e5431d\"')]\n"
     ]
    }
   ],
   "source": [
    "import email\n",
    " \n",
    "print email_message['To']\n",
    " \n",
    "print email.utils.parseaddr(email_message['From']) # for parsing \"Yuji Tomita\" <yuji@grovemade.com>\n",
    " \n",
    "print email_message.items() # print all headers\n",
    " \n",
    "# note that if you want to get text content (body) and the email contains\n",
    "# multiple payloads (plaintext/ html), you must parse each message separately.\n",
    "# use something like the following: (taken from a stackoverflow post)\n",
    "def get_first_text_block(email_message_instance):\n",
    "    maintype = email_message_instance.get_content_maintype()\n",
    "    if maintype == 'multipart':\n",
    "        for part in email_message_instance.get_payload():\n",
    "            if part.get_content_maintype() == 'text':\n",
    "                return part.get_payload()\n",
    "    elif maintype == 'text':\n",
    "        return email_message_instance.get_payload()"
   ]
  },
  {
   "cell_type": "code",
   "execution_count": 39,
   "metadata": {},
   "outputs": [
    {
     "name": "stdout",
     "output_type": "stream",
     "text": [
      "Access for less secure apps has been turned on\r\n",
      "\r\n",
      "\r\n",
      "\r\n",
      "You received this message because prislano@gmail.com is listed as the\r\n",
      "recovery email for peterdemin@gmail.com. If peterdemin@gmail.com is not\r\n",
      "your Google Account, click here to disconnect\r\n",
      "<https://accounts.google.com/AccountDisavow?adt=AOX8kioImqXluxpIRQkVFwB4BtsxNDEjkyidsa6V8fl49DgLzGSAolxAfrN8Gq0&rfn=28>\r\n",
      "from that account and stop receiving emails.\r\n",
      "\r\n",
      "\r\n",
      "\r\n",
      "Hi Peter,\r\n",
      "You recently changed your security settings so that your Google Account\r\n",
      "peterdemin@gmail.com is no longer protected by modern security standards.\r\n",
      "\r\n",
      "Please be aware that it is now easier for an attacker to break into your\r\n",
      "account. You can make your account safer again by undoing this change here\r\n",
      "<https://myaccount.google.com/lesssecureapps>, then switching to apps made\r\n",
      "by Google such as Gmail to access your account.\r\n",
      "\r\n",
      "*Don't recognize this activity?*\r\n",
      "Review your recently used devices\r\n",
      "<https://accounts.google.com/AccountChooser?Email=peterdemin@gmail.com&continue=https://myaccount.google.com/device-activity?rfn%3D28%26rfnc%3D1%26eid%3D-3150774448803865185%26et%3D1%26asae%3D2>\r\n",
      "now.\r\n",
      "The Google Accounts team\r\n",
      "\r\n",
      "\r\n",
      "\r\n",
      "This email can't receive replies. For more information, visit the Google\r\n",
      "Accounts Help Center <https://support.google.com/accounts/answer/6010255>.\r\n",
      "\r\n",
      "\r\n",
      "\r\n",
      "You received this mandatory email service announcement to update you about\r\n",
      "important changes to your Google product or account.\r\n",
      "\r\n",
      "© 2018 Google Inc., 1600 Amphitheatre Parkway, Mountain View, CA 94043, USA\r\n",
      "et:28\r\n",
      "\n"
     ]
    }
   ],
   "source": [
    "import base64\n",
    "print(base64.b64decode(get_first_text_block(email_message)))"
   ]
  },
  {
   "cell_type": "code",
   "execution_count": null,
   "metadata": {},
   "outputs": [],
   "source": []
  }
 ],
 "metadata": {
  "kernelspec": {
   "display_name": "Python 2",
   "language": "python",
   "name": "python2"
  },
  "language_info": {
   "codemirror_mode": {
    "name": "ipython",
    "version": 2
   },
   "file_extension": ".py",
   "mimetype": "text/x-python",
   "name": "python",
   "nbconvert_exporter": "python",
   "pygments_lexer": "ipython2",
   "version": "2.7.12"
  }
 },
 "nbformat": 4,
 "nbformat_minor": 2
}
